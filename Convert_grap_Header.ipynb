{
 "cells": [
  {
   "cell_type": "code",
   "execution_count": 12,
   "id": "c1d588a7-965f-472a-9cb6-5d309cfdc86d",
   "metadata": {},
   "outputs": [],
   "source": [
    "filename= \"Gordonibacter_seqs.fasta\"\n",
    "gfa_path= \"DBG_first_Gordonibacter.gfa\""
   ]
  },
  {
   "cell_type": "code",
   "execution_count": 31,
   "id": "14cfcdcd-86fd-4011-b5d4-92f8c65fafcf",
   "metadata": {},
   "outputs": [
    {
     "data": {
      "text/plain": [
       "<function TextIOWrapper.close()>"
      ]
     },
     "execution_count": 31,
     "metadata": {},
     "output_type": "execute_result"
    }
   ],
   "source": [
    "from Bio import SeqIO\n",
    "from Bio.Seq import Seq\n",
    "import operator\n",
    "\n",
    "\n",
    "import Bio\n",
    "\n",
    "arr=[]\n",
    "\n",
    "count=0\n",
    "\n",
    "with open(filename) as input_handle:\n",
    "    for record in SeqIO.parse(input_handle, \"fasta\"):\n",
    "            \n",
    "        seq_string =str(record.seq).upper()\n",
    "        \n",
    "        seq_id =record.description.split(' ',1)[0]\n",
    "        arr.append((seq_id,seq_string))\n",
    "        \n",
    "        count+=1\n",
    "        \n",
    "\n",
    "        \n",
    "f_gfa = open(gfa_path,'r')\n",
    "\n",
    "Lines = f_gfa.readlines()\n",
    "\n",
    "out_lines=[]\n",
    "\n",
    "loops=0\n",
    "for line in Lines:\n",
    "    loops+=1\n",
    "    \n",
    "    if loops<2 or loops>27:\n",
    "        out_lines.append(line)\n",
    "        continue\n",
    "    \n",
    "    split_line=line.split('*')[0]\n",
    "    \n",
    "    for element in arr:\n",
    "        \n",
    "        if element[0] == split_line.split('\t')[1]:\n",
    "            line_converted =split_line+element[1]\n",
    "            out_lines.append(line_converted)\n",
    "            break\n",
    "\n",
    "f_gfa.close           \n",
    "\n",
    "f_gfa_OUT=open(\"DBG_first_Gordonibacter_converted.gfa\",'w')\n",
    "\n",
    "for out_line in out_lines:\n",
    "    f_gfa_OUT.write(out_line)\n",
    "\n",
    "f_gfa_OUT.write(\"\\n\")    \n",
    "f_gfa_OUT.close\n",
    "\n",
    "\n"
   ]
  },
  {
   "cell_type": "code",
   "execution_count": null,
   "id": "1b30d0e0-9343-40f5-a59f-2a2f202a86c6",
   "metadata": {},
   "outputs": [],
   "source": [
    "f_=open(\"out.gfa\")\n",
    "f_lines = f.readlines()\n",
    "\n",
    "f_out=[]\n",
    "for line in f_lines:\n",
    "    if line[0] =='P':\n",
    "        out_string= line.\n",
    "        f_out.append()\n"
   ]
  }
 ],
 "metadata": {
  "kernelspec": {
   "display_name": "Python 3 (ipykernel)",
   "language": "python",
   "name": "python3"
  },
  "language_info": {
   "codemirror_mode": {
    "name": "ipython",
    "version": 3
   },
   "file_extension": ".py",
   "mimetype": "text/x-python",
   "name": "python",
   "nbconvert_exporter": "python",
   "pygments_lexer": "ipython3",
   "version": "3.9.13"
  }
 },
 "nbformat": 4,
 "nbformat_minor": 5
}
