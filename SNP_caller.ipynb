{
 "cells": [
  {
   "cell_type": "code",
   "execution_count": 218,
   "id": "a456a957-a6ff-4f0f-be0f-38460ddfea5e",
   "metadata": {},
   "outputs": [],
   "source": [
    "import random\n",
    "\n",
    "from Bio import SeqIO\n",
    "from Bio.Seq import Seq\n",
    "import operator\n",
    "import math\n",
    "\n",
    "import Bio\n",
    "\n",
    "\n",
    "out_string=[]\n",
    "count_D=0\n",
    "count_A=0\n",
    "count_SZ=0\n",
    "\n",
    "all=[]\n",
    "\n",
    "\n",
    "with open(\"AJ_SNP.fasta\") as input_handle:\n",
    "    for record in SeqIO.parse(input_handle, \"fasta\"):\n",
    "        cycle=random.randint(1,4)\n",
    "        cycle=1\n",
    "        \n",
    "        for i in range(0,cycle):\n",
    "            \n",
    "            type_of_SNP=random.randint(1,3)\n",
    "            \n",
    "                #A\n",
    "            if type_of_SNP==1:\n",
    "                count_A+=1\n",
    "                here= random.randint(0,len(record.seq)-1)\n",
    "                out_seq=str(record.seq[:here])+random.choice(['A','C','G','T'])+str(record.seq[here:])\n",
    "                \n",
    "                #D\n",
    "            elif type_of_SNP==2:\n",
    "                count_D+=1\n",
    "                here= random.randint(0,len(record.seq)-1)\n",
    "                out_seq= str(record.seq[:here-1])+record.seq[here:]\n",
    "                #SZ\n",
    "            elif type_of_SNP==3:\n",
    "                count_SZ+=1\n",
    "                here= random.randint(0,len(record.seq)-1)\n",
    "\n",
    "                if str(record.seq)[here] == 'A':\n",
    "                    change_list = ['C','G','T']\n",
    "                elif str(record.seq)[here] == 'T':\n",
    "                    change_list = ['C','G','A']\n",
    "                elif str(record.seq)[here] == 'G':\n",
    "                    change_list = ['C','A','T']\n",
    "                elif str(record.seq)[here] == 'C':\n",
    "                    change_list = ['A','G','T']    \n",
    "                out_seq= str(record.seq[:here-1])+random.choice(change_list)+record.seq[here:]\n",
    "                \n",
    "            pair=(here, type_of_SNP,str(record.description))\n",
    "            all.append(pair)\n",
    "            \n",
    "        out_string.append(\">\"+record.description)\n",
    "        out_string.append(str(out_seq))\n",
    "        \n"
   ]
  },
  {
   "cell_type": "code",
   "execution_count": 219,
   "id": "38815e49-4099-4d80-9a0b-be948498b33f",
   "metadata": {},
   "outputs": [
    {
     "name": "stdout",
     "output_type": "stream",
     "text": [
      "78\n",
      "83\n",
      "66\n",
      "227\n",
      "454\n",
      "1\n"
     ]
    }
   ],
   "source": [
    "print(count_A)\n",
    "print(count_D)\n",
    "print(count_SZ)\n",
    "print(len(all))\n",
    "print(len(out_string))\n",
    "print(cycle)"
   ]
  },
  {
   "cell_type": "code",
   "execution_count": 220,
   "id": "95d21233-a1bd-4e9f-b3e1-4b64aceb60fd",
   "metadata": {},
   "outputs": [
    {
     "name": "stdout",
     "output_type": "stream",
     "text": [
      "[(99, 1, 'AJ518870.1.1407|Gordonibacter|S0E150'), (64, 2, 'AJ518870.1.1407|Gordonibacter|S6E156'), (68, 1, 'AJ518870.1.1407|Gordonibacter|S12E162'), (95, 3, 'AJ518870.1.1407|Gordonibacter|S18E168'), (12, 3, 'AJ518870.1.1407|Gordonibacter|S24E174'), (104, 1, 'AJ518870.1.1407|Gordonibacter|S30E180'), (72, 1, 'AJ518870.1.1407|Gordonibacter|S36E186'), (101, 1, 'AJ518870.1.1407|Gordonibacter|S42E192'), (82, 2, 'AJ518870.1.1407|Gordonibacter|S48E198'), (138, 1, 'AJ518870.1.1407|Gordonibacter|S54E204')]\n"
     ]
    }
   ],
   "source": [
    "print(all[:10])"
   ]
  },
  {
   "cell_type": "code",
   "execution_count": 222,
   "id": "a2edcc1f-0d3f-4ef1-8399-f36e995bc7d0",
   "metadata": {},
   "outputs": [],
   "source": [
    "out_file= open(\"ide_be/Pos_2.fasta\",\"w\")\n",
    "\n",
    "for line in out_string:\n",
    "    out_file.write(line)\n",
    "    out_file.write('\\n')"
   ]
  },
  {
   "cell_type": "code",
   "execution_count": 224,
   "id": "61caced2-b94e-4bf6-8643-aee74656b901",
   "metadata": {},
   "outputs": [],
   "source": [
    "        \n",
    "    \n",
    "s_open= open(\"ide_be/Pos_2_once.sam\",'r')\n",
    "s_lines=s_open.readlines()\n",
    "s_open.close()\n",
    "line_counter=0\n",
    "    \n",
    "I=0\n",
    "D=0\n",
    "A=0\n",
    "S=0\n",
    "\n",
    "Cigar_strings=[]\n",
    "\n",
    "for s in s_lines:\n",
    "    line_counter+=1\n",
    "    if s==\"\\n\":\n",
    "        print(\"a\")\n",
    "        break\n",
    "    \n",
    "    if len(s.split('\t')) >=5:\n",
    "        \n",
    "        string_ = s.split('\t')[5]\n",
    "        Cigar_strings.append((s.split('\t')[0] , string_, s.split('\t')[2]))\n",
    "        \n",
    "        temp_i=0\n",
    "        temp_d=0\n",
    "        temp_s=0\n",
    "        \n",
    "        temp_i= string_.count('I')\n",
    "        temp_d= string_.count('D')\n",
    "        temp_s= string_.count('S')\n",
    "        \n",
    "        I+= temp_i\n",
    "        S+= temp_s\n",
    "        D+= temp_d\n",
    "        \n",
    "        if temp_i+temp_d+temp_s ==0:\n",
    "            A+=1\n",
    "        \n",
    "        \n",
    "            \n",
    "    else:\n",
    "        print(s)\n",
    "        #break\n"
   ]
  },
  {
   "cell_type": "code",
   "execution_count": 225,
   "id": "8fab873f-80c7-4ad2-9435-6068292514f1",
   "metadata": {},
   "outputs": [
    {
     "name": "stdout",
     "output_type": "stream",
     "text": [
      "Insertion: 73\n",
      "Deletion:  70\n",
      "SUB: 14\n",
      "Nothing: 71\n",
      "227\n",
      "[('AJ518870.1.1407|Gordonibacter|S0E150', '92M1D7M1I51M', 'LT900217.959149.960636'), ('AJ518870.1.1407|Gordonibacter|S6E156', '62M1D87M', 'AJ518870.1.1407'), ('AJ518870.1.1407|Gordonibacter|S12E162', '68M1I82M', 'AJ518870.1.1407'), ('AJ518870.1.1407|Gordonibacter|S18E168', '150M', 'AJ518870.1.1407'), ('AJ518870.1.1407|Gordonibacter|S24E174', '150M', 'AJ518870.1.1407'), ('AJ518870.1.1407|Gordonibacter|S30E180', '104M1I46M', 'AJ518870.1.1407'), ('AJ518870.1.1407|Gordonibacter|S36E186', '71M1I79M', 'AJ518870.1.1407'), ('AJ518870.1.1407|Gordonibacter|S42E192', '101M1I49M', 'AJ518870.1.1407'), ('AJ518870.1.1407|Gordonibacter|S48E198', '80M1D69M', 'AJ518870.1.1407'), ('AJ518870.1.1407|Gordonibacter|S54E204', '138M1I12M', 'AJ518870.1.1407'), ('AJ518870.1.1407|Gordonibacter|S60E210', '150M', 'AJ518870.1.1407'), ('AJ518870.1.1407|Gordonibacter|S66E216', '142M1I8M', 'AJ518870.1.1407'), ('AJ518870.1.1407|Gordonibacter|S72E222', '150M', 'AJ518870.1.1407'), ('AJ518870.1.1407|Gordonibacter|S78E228', '14M1D135M', 'AJ518870.1.1407'), ('AJ518870.1.1407|Gordonibacter|S84E234', '67M1D82M', 'AJ518870.1.1407'), ('AJ518870.1.1407|Gordonibacter|S90E240', '85M1D64M', 'AJ518870.1.1407'), ('AJ518870.1.1407|Gordonibacter|S96E246', '24M1I126M', 'AJ518870.1.1407'), ('AJ518870.1.1407|Gordonibacter|S102E252', '10M1D139M', 'AJ518870.1.1407'), ('AJ518870.1.1407|Gordonibacter|S108E258', '145M6S', 'AJ518870.1.1407'), ('AJ518870.1.1407|Gordonibacter|S114E264', '100M1D49M', 'AJ518870.1.1407'), ('AJ518870.1.1407|Gordonibacter|S120E270', '31M1I119M', 'AJ518870.1.1407'), ('AJ518870.1.1407|Gordonibacter|S126E276', '150M', 'AJ518870.1.1407'), ('AJ518870.1.1407|Gordonibacter|S132E282', '138M1D11M', 'AJ518870.1.1407'), ('AJ518870.1.1407|Gordonibacter|S138E288', '*', '*'), ('AJ518870.1.1407|Gordonibacter|S144E294', '*', '*'), ('AJ518870.1.1407|Gordonibacter|S150E300', '8M1D141M', 'AJ518870.1.1407'), ('AJ518870.1.1407|Gordonibacter|S156E306', '62M1D87M', 'LT900217.510668.512155'), ('AJ518870.1.1407|Gordonibacter|S162E312', '150M', 'LT827128.1667230.1668717'), ('AJ518870.1.1407|Gordonibacter|S168E318', '133M1D16M', 'GQ493127.1.1363'), ('AJ518870.1.1407|Gordonibacter|S174E324', '112M1I38M', 'LT900217.510668.512155')]\n"
     ]
    }
   ],
   "source": [
    "print(\"Insertion: \" + str(I))\n",
    "print(\"Deletion:  \"+ str(D))\n",
    "print(\"SUB: \"+ str(S))\n",
    "print(\"Nothing: \"+ str(A))\n",
    "print(line_counter)\n",
    "print(Cigar_strings[:30])"
   ]
  },
  {
   "cell_type": "code",
   "execution_count": 231,
   "id": "dc3ecbfb-d155-40d1-a097-250e656aa533",
   "metadata": {},
   "outputs": [],
   "source": [
    "s_open= open(\"ide_be/Pos_2_once.sam\",'r')\n",
    "s_lines=s_open.readlines()\n",
    "s_open.close()\n",
    "line_counter=0\n",
    "    \n",
    "I=0\n",
    "D=0\n",
    "A=0\n",
    "S=0\n",
    "\n",
    "mismatch_strings=[]\n",
    "\n",
    "for s in s_lines:\n",
    "    line_counter+=1\n",
    "    if s==\"\":\n",
    "        print(\"a\")\n",
    "        break\n",
    "        \n",
    "    #if len(s.split('\t')) >=5:\n",
    "    sam_line= s.split('\t')\n",
    "    for hh in sam_line:\n",
    "        if hh[:2] == \"MD\":\n",
    "            hhm= (s.split('\t')[0],hh)\n",
    "            mismatch_strings.append(hhm)\n",
    "            break\n"
   ]
  },
  {
   "cell_type": "code",
   "execution_count": 232,
   "id": "42176c18-5c56-45c6-b444-2b1d67c94c20",
   "metadata": {},
   "outputs": [
    {
     "name": "stdout",
     "output_type": "stream",
     "text": [
      "222\n"
     ]
    }
   ],
   "source": [
    "print(len(mismatch_strings))\n",
    "#relaítv mert 6ot nem alignolt ://"
   ]
  },
  {
   "cell_type": "code",
   "execution_count": 233,
   "id": "2f99ea94-27ad-4921-85af-7846154b6b65",
   "metadata": {},
   "outputs": [],
   "source": [
    "summa=[]\n",
    "for occ in all[:]:\n",
    "    for eset in mismatch_strings:\n",
    "        if occ[2] == eset[0]:\n",
    "                for cigar in Cigar_strings:\n",
    "                    if cigar[0] == eset[0]:\n",
    "                        summa.append((eset[0],occ[0],occ[1],cigar[1],eset[1],cigar[2]))\n",
    "                        break\n",
    "                break"
   ]
  },
  {
   "cell_type": "code",
   "execution_count": 195,
   "id": "1a2aa0a7-9665-4bdf-b8fa-e42d2ae97099",
   "metadata": {},
   "outputs": [],
   "source": [
    "summa=[]\n",
    "for eset in mismatch_strings:\n",
    "    for cigar in Cigar_strings:\n",
    "            if cigar[0] == eset[0]:\n",
    "                for occ in all[:]:\n",
    "                    if occ[2] == eset[0]:\n",
    "                        summa.append((eset[0],occ[0],occ[1],cigar[1],eset[1],cigar[2]))\n",
    "                        break\n",
    "                break"
   ]
  },
  {
   "cell_type": "code",
   "execution_count": 236,
   "id": "143d2202-5b6e-478f-a2b7-883d4ee12738",
   "metadata": {},
   "outputs": [
    {
     "name": "stdout",
     "output_type": "stream",
     "text": [
      "(99, 1, 'AJ518870.1.1407|Gordonibacter|S0E150')\n",
      "_______________\n",
      "('AJ518870.1.1407|Gordonibacter|S0E150', 'MD:Z:51C0G39^G58')\n",
      "_______________\n",
      "('AJ518870.1.1407|Gordonibacter|S0E150', '92M1D7M1I51M', 'LT900217.959149.960636')\n",
      "_______________\n",
      "222\n"
     ]
    }
   ],
   "source": [
    "proba_str=\"AJ518870.1.1407|Gordonibacter|S0E150\"\n",
    "\n",
    "for this in all[:]:   \n",
    "    if this[2] == proba_str:\n",
    "        print(this)\n",
    "print(\"_______________\")\n",
    "for this in mismatch_strings[:]:   \n",
    "    if this[0] == proba_str:\n",
    "        print(this)\n",
    "print(\"_______________\")        \n",
    "for this in Cigar_strings[:]:   \n",
    "    if this[0] == proba_str:\n",
    "        print(this)\n",
    "print(\"_______________\")        \n",
    "\n",
    "        \n",
    "\n",
    "        \n",
    "        \n",
    "print(len(summa))"
   ]
  },
  {
   "cell_type": "code",
   "execution_count": 314,
   "id": "7afac83f-8ed5-4b02-a425-3afabd3afb16",
   "metadata": {},
   "outputs": [
    {
     "name": "stdout",
     "output_type": "stream",
     "text": [
      "[(0, 150), (78, 228), (114, 264), (156, 306), (162, 312), (168, 318), (174, 324), (180, 330), (186, 336), (192, 342), (198, 348), (204, 354), (210, 360), (216, 366), (222, 372), (228, 378), (234, 384), (240, 390), (246, 396), (252, 402), (258, 408), (264, 414), (270, 420), (282, 432), (288, 438), (294, 444), (300, 450), (306, 456), (312, 462), (318, 468), (324, 474), (354, 504), (420, 570), (432, 582), (480, 630), (528, 678), (534, 684), (540, 690), (564, 714), (576, 726), (588, 738), (702, 852), (708, 858), (714, 864), (720, 870), (732, 882), (738, 888), (744, 894), (750, 900), (756, 906), (762, 912), (768, 918), (774, 924), (780, 930), (792, 942), (798, 948), (804, 954), (810, 960), (816, 966), (822, 972), (828, 978), (840, 990), (858, 1008), (864, 1014), (870, 1020), (876, 1026), (882, 1032), (888, 1038), (894, 1044), (900, 1050), (906, 1056), (912, 1062), (924, 1074), (942, 1092), (948, 1098), (954, 1104), (960, 1110), (966, 1116), (972, 1122), (978, 1128), (990, 1140), (996, 1146), (1002, 1152), (1008, 1158), (1020, 1170), (1026, 1176), (1092, 1242), (1134, 1284), (1152, 1302), (1176, 1326), (1182, 1332), (1212, 1362), (1224, 1374), (1230, 1380), (1242, 1392), (1260, 1407), (1266, 1407), (1272, 1407), (1278, 1407), (1284, 1407), (1290, 1407), (1296, 1407), (1302, 1407), (1308, 1407), (1314, 1407), (1320, 1407), (1326, 1407), (1332, 1407), (1338, 1407), (1344, 1407), (1356, 1407)]\n",
      "111\n"
     ]
    }
   ],
   "source": [
    "fp=[]\n",
    "tp=[]\n",
    "\n",
    "\n",
    "#if asd[2]==1:\n",
    "for asd in summa:\n",
    "    \n",
    "    if asd[0].split('|')[0] == asd[5]:\n",
    "        match=asd[3].split('M')[0]\n",
    "        \n",
    "        if match.isdigit() == False:\n",
    "            match= match.split('S')[-1]\n",
    "            \n",
    "        if asd[2] == 1:     \n",
    "            #type 1\n",
    "            if asd[1] == int(match) or asd[1]+1 == int(match) or asd[1]-1 == int(match):\n",
    "                s_e=asd[0].split('|')[-1].split('S')[1].split('E')\n",
    "                start= int(s_e[0])\n",
    "                end=int(s_e[1])\n",
    "                tp_pair=(start,end)\n",
    "                tp.append(tp_pair)\n",
    "                continue\n",
    "            #type 2    \n",
    "        elif asd[2] == 2:\n",
    "            \n",
    "            if asd[1] == int(match) or (asd[1]+2 >= int(match) and asd[1]-2 <= int(match)):\n",
    "                s_e=asd[0].split('|')[-1].split('S')[1].split('E')\n",
    "                start= int(s_e[0])\n",
    "                end=int(s_e[1])\n",
    "                tp_pair=(start,end)\n",
    "                tp.append(tp_pair)\n",
    "                continue\n",
    "        \n",
    "        elif asd[2] == 3:\n",
    "            str_=\"\"\n",
    "            for char_ in list(asd[4]):\n",
    "                if char_.isdigit():\n",
    "                    str_ += char_\n",
    "                else:\n",
    "                    if len(str_) >0:\n",
    "                        break\n",
    "            \n",
    "            match_3=str_\n",
    "            \n",
    "            if asd[1] == int(match_3) or (asd[1]+1 >= int(match_3) and asd[1]-1 <= int(match_3)):\n",
    "                s_e=asd[0].split('|')[-1].split('S')[1].split('E')\n",
    "                start= int(s_e[0])\n",
    "                end=int(s_e[1])\n",
    "                tp_pair=(start,end)\n",
    "                tp.append(tp_pair)\n",
    "                continue\n",
    "        \n",
    "        s_e=asd[0].split('|')[-1].split('S')[1].split('E')\n",
    "        start= int(s_e[0])\n",
    "        end=int(s_e[1])\n",
    "        fp_pair=(start,end)    \n",
    "        fp.append(fp_pair)\n",
    "        \n",
    "    else:\n",
    "        \n",
    "        s_e=asd[0].split('|')[-1].split('S')[1].split('E')\n",
    "        start= int(s_e[0])\n",
    "        \n",
    "        end=int(s_e[1])\n",
    "        fp_pair=(start,end)\n",
    "        fp.append(fp_pair)\n",
    "    \n",
    "    \n",
    "\n",
    "print(fp[:])\n",
    "print(len(tp))\n",
    "\n"
   ]
  },
  {
   "cell_type": "code",
   "execution_count": null,
   "id": "e1b8e820-040d-4da9-829e-191a68ac9543",
   "metadata": {},
   "outputs": [],
   "source": []
  },
  {
   "cell_type": "code",
   "execution_count": 315,
   "id": "45c2f4a8-93d3-438a-b6f5-0d57e20274b2",
   "metadata": {},
   "outputs": [],
   "source": [
    "fp_diagram=[0]*2000\n",
    "\n",
    "for f in fp:\n",
    "    for s in range(f[0],f[1]):\n",
    "        fp_diagram[s]+=1\n",
    "\n",
    "tp_diagram =[0]*2000        \n",
    "for t in tp:\n",
    "    for h in range(t[0],t[1]):\n",
    "        tp_diagram[h]+=1\n",
    "    \n"
   ]
  },
  {
   "cell_type": "code",
   "execution_count": 316,
   "id": "98dbc457-61d5-49bc-b586-19e4b2fde18e",
   "metadata": {},
   "outputs": [
    {
     "data": {
      "text/plain": [
       "[<matplotlib.lines.Line2D at 0x7fcc538d08b0>]"
      ]
     },
     "execution_count": 316,
     "metadata": {},
     "output_type": "execute_result"
    },
    {
     "data": {
      "image/png": "[encoded data removed]",
      "text/plain": [
       "<Figure size 640x480 with 1 Axes>"
      ]
     },
     "metadata": {},
     "output_type": "display_data"
    }
   ],
   "source": [
    "import numpy as np\n",
    "\n",
    "\n",
    "plt.plot(fp_diagram[:1500], color='r', label='A')\n",
    "plt.plot(tp_diagram[:1500], color='b', label='A')\n",
    "\n",
    "cover_check= np.add(fp_diagram,tp_diagram)\n",
    "\n",
    "\n",
    "plt.plot(cover_check[:1500], color='y', label='A')\n",
    "\n"
   ]
  },
  {
   "cell_type": "code",
   "execution_count": 372,
   "id": "02b3ee79-1b0d-45cd-8734-b25f99e333f4",
   "metadata": {},
   "outputs": [
    {
     "name": "stdout",
     "output_type": "stream",
     "text": [
      "227\n"
     ]
    },
    {
     "data": {
      "text/plain": [
       "[<matplotlib.lines.Line2D at 0x7fcc47b783a0>]"
      ]
     },
     "execution_count": 372,
     "metadata": {},
     "output_type": "execute_result"
    },
    {
     "data": {
      "image/png": "[encoded data removed]",
      "text/plain": [
       "<Figure size 640x480 with 1 Axes>"
      ]
     },
     "metadata": {},
     "output_type": "display_data"
    }
   ],
   "source": [
    "y=[]\n",
    "in_fasta=\"Gordonibacter_reads.fasta\"\n",
    "with open(in_fasta) as input_handle:\n",
    "    for record in SeqIO.parse(input_handle, \"fasta\"):\n",
    "        if str(record.description.split('|')[0]) == 'AJ518870.1.1407':\n",
    "            s_e=str(record.description).split('|')[-1].split('S')[1].split('E')\n",
    "            start= int(s_e[0])\n",
    "            end=int(s_e[1])\n",
    "            y_pair=(start,end)\n",
    "            y.append(y_pair)\n",
    "        \n",
    "print(len(y))\n",
    "\n",
    "\n",
    "y_buckets=[0]*2000\n",
    "\n",
    "for eset in y:\n",
    "    for s in range(eset[0],eset[1]):\n",
    "        y_buckets[s]+=1\n",
    "\n",
    "plt.plot(y_buckets[:1500], color='y', label='A')"
   ]
  },
  {
   "cell_type": "code",
   "execution_count": 317,
   "id": "9305e3c3-c19d-4267-a09f-7255e4c10a75",
   "metadata": {},
   "outputs": [],
   "source": [
    "s_open= open(\"/home/csado7/biobox/csado7/GrapAligner_tests/Test_aln.gaf\",'r')\n",
    "s_lines=s_open.readlines()\n",
    "s_open.close()\n",
    "line_counter=0\n",
    "\n",
    "prec=[]\n",
    "for line in s_lines:\n",
    "    if len(line.split('\t')) >=15:\n",
    "        prec.append(float(line.split('\t')[15].split(':')[-1])) "
   ]
  },
  {
   "cell_type": "code",
   "execution_count": 335,
   "id": "e0a05169-6381-4a19-a3b0-07e3bc59898a",
   "metadata": {},
   "outputs": [],
   "source": [
    "import re\n",
    "\n",
    "s_open= open(\"/home/csado7/biobox/csado7/GrapAligner_tests/Test_aln.gaf\",'r')\n",
    "s_lines=s_open.readlines()\n",
    "s_open.close()\n",
    "line_counter=0\n",
    "\n",
    "nodes=[]\n",
    "for line in s_lines:\n",
    "    if len(line.split('\t')) >=15:\n",
    "        node=line.split('\t')[5][1:]\n",
    "        more_node = re.split('<|>', node)\n",
    "        \n",
    "        for more in more_node:\n",
    "            change = False\n",
    "            for x in range(0,len(nodes)):\n",
    "                if more == nodes[x][0]:\n",
    "                    \n",
    "                    nodes[x]= (nodes[x][0],nodes[x][1]+1)\n",
    "                    change=True\n",
    "                    break\n",
    "            if change == False:\n",
    "                nodes.append((more,0))\n",
    "                    "
   ]
  },
  {
   "cell_type": "code",
   "execution_count": 377,
   "id": "3a1f7884-5bd1-4b50-be96-60309fdea78f",
   "metadata": {},
   "outputs": [
    {
     "name": "stdout",
     "output_type": "stream",
     "text": [
      "('203', 771)\n",
      "('1488', 0)\n"
     ]
    },
    {
     "data": {
      "text/plain": [
       "(array([743.,   8.,  12.,  14.,   5.,  10.,   4.,   3.,   6.,   7.,   7.,\n",
       "          4.,   5.,   5.,   3.,   4.,   4.,   1.,   2.,   5.,   3.,   2.,\n",
       "          1.,   6.,   2.,   4.,   3.,   4.,   2.,   2.,   2.,   4.,   5.,\n",
       "          2.,   4.,   2.,   2.,   3.,   3.,   4.,   2.,   1.,   0.,   0.,\n",
       "          3.,   2.,   2.,   2.,   1.,   4.,   1.,   2.,   0.,   4.,   2.,\n",
       "          1.,   2.,   2.,   0.,   4.,   0.,   1.,   2.,   2.,   2.,   2.,\n",
       "          3.,   2.,   2.,   1.,   0.,   1.,   0.,   0.,   0.,   1.,   1.,\n",
       "          2.,   2.,   0.,   1.,   3.,   0.,   2.,   2.,   2.,   2.,   1.,\n",
       "          2.,   1.,   1.,   0.,   0.,   0.,   0.,   1.,   0.,   0.,   0.,\n",
       "          1.]),\n",
       " array([  0.  ,   7.71,  15.42,  23.13,  30.84,  38.55,  46.26,  53.97,\n",
       "         61.68,  69.39,  77.1 ,  84.81,  92.52, 100.23, 107.94, 115.65,\n",
       "        123.36, 131.07, 138.78, 146.49, 154.2 , 161.91, 169.62, 177.33,\n",
       "        185.04, 192.75, 200.46, 208.17, 215.88, 223.59, 231.3 , 239.01,\n",
       "        246.72, 254.43, 262.14, 269.85, 277.56, 285.27, 292.98, 300.69,\n",
       "        308.4 , 316.11, 323.82, 331.53, 339.24, 346.95, 354.66, 362.37,\n",
       "        370.08, 377.79, 385.5 , 393.21, 400.92, 408.63, 416.34, 424.05,\n",
       "        431.76, 439.47, 447.18, 454.89, 462.6 , 470.31, 478.02, 485.73,\n",
       "        493.44, 501.15, 508.86, 516.57, 524.28, 531.99, 539.7 , 547.41,\n",
       "        555.12, 562.83, 570.54, 578.25, 585.96, 593.67, 601.38, 609.09,\n",
       "        616.8 , 624.51, 632.22, 639.93, 647.64, 655.35, 663.06, 670.77,\n",
       "        678.48, 686.19, 693.9 , 701.61, 709.32, 717.03, 724.74, 732.45,\n",
       "        740.16, 747.87, 755.58, 763.29, 771.  ]),\n",
       " <BarContainer object of 100 artists>)"
      ]
     },
     "execution_count": 377,
     "metadata": {},
     "output_type": "execute_result"
    },
    {
     "data": {
      "image/png": "[encoded data removed]",
      "text/plain": [
       "<Figure size 640x480 with 1 Axes>"
      ]
     },
     "metadata": {},
     "output_type": "display_data"
    }
   ],
   "source": [
    "largest=(0,-1)\n",
    "\n",
    "for em in nodes:\n",
    "    if em[1] > largest[1] and not em[0] ==  'AJ518870.1.1407':\n",
    "        largest = em\n",
    "print(largest)\n",
    "\n",
    "largest_node=(0,0)\n",
    "\n",
    "for em in nodes:\n",
    "    \n",
    "    if not em[0] ==  'AJ518870.1.1407':\n",
    "        if int(em[0]) > largest_node[1]:\n",
    "            largest_node = em\n",
    "            \n",
    "#bucket_sort= [0]*largest_node[1]\n",
    "bucket_sort= [0]*10000\n",
    "\n",
    "for n in nodes:\n",
    "    \n",
    "    if not n[0] ==  'AJ518870.1.1407':\n",
    "        if int(n[0]) >= len(bucket_sort):\n",
    "            continue\n",
    "        \n",
    "        bucket_sort[int(n[0])] = n[1]\n",
    "\n",
    "print(largest_node)\n",
    "\n",
    "plt.hist(bucket_sort[10:1000], bins=100,color = \"lightblue\", ec=\"red\")"
   ]
  },
  {
   "cell_type": "code",
   "execution_count": 374,
   "id": "54a3a1f8-00b0-46da-a264-9aa0818fe650",
   "metadata": {},
   "outputs": [
    {
     "name": "stdout",
     "output_type": "stream",
     "text": [
      "9544\n"
     ]
    },
    {
     "data": {
      "text/plain": [
       "(array([1.000e+00, 0.000e+00, 0.000e+00, 0.000e+00, 0.000e+00, 1.000e+00,\n",
       "        0.000e+00, 0.000e+00, 0.000e+00, 0.000e+00, 2.000e+00, 0.000e+00,\n",
       "        0.000e+00, 0.000e+00, 1.000e+00, 0.000e+00, 0.000e+00, 0.000e+00,\n",
       "        1.000e+00, 0.000e+00, 0.000e+00, 0.000e+00, 1.000e+00, 0.000e+00,\n",
       "        0.000e+00, 1.000e+00, 0.000e+00, 1.000e+00, 0.000e+00, 2.000e+00,\n",
       "        2.000e+00, 0.000e+00, 2.000e+00, 2.000e+00, 0.000e+00, 6.000e+00,\n",
       "        0.000e+00, 1.000e+00, 5.000e+00, 0.000e+00, 0.000e+00, 7.000e+00,\n",
       "        0.000e+00, 3.000e+00, 1.000e+00, 0.000e+00, 4.000e+00, 2.000e+00,\n",
       "        2.000e+00, 0.000e+00, 0.000e+00, 9.000e+00, 5.000e+00, 9.000e+00,\n",
       "        1.600e+01, 9.000e+00, 1.900e+01, 1.600e+01, 4.000e+00, 1.800e+01,\n",
       "        2.600e+01, 4.000e+00, 3.400e+01, 2.400e+01, 2.300e+01, 3.500e+01,\n",
       "        1.100e+01, 1.600e+01, 3.600e+01, 3.100e+01, 6.800e+01, 3.000e+00,\n",
       "        3.300e+01, 7.400e+01, 9.000e+00, 6.500e+01, 9.900e+01, 1.100e+01,\n",
       "        2.540e+02, 6.000e+00, 1.800e+01, 1.600e+02, 7.000e+00, 2.700e+02,\n",
       "        9.700e+01, 1.900e+01, 5.610e+02, 1.200e+01, 2.200e+01, 7.750e+02,\n",
       "        1.400e+01, 5.220e+02, 4.900e+01, 1.500e+01, 1.213e+03, 6.000e+00,\n",
       "        1.300e+01, 1.017e+03, 0.000e+00, 3.739e+03]),\n",
       " array([0.752381  , 0.75485719, 0.75733338, 0.75980957, 0.76228576,\n",
       "        0.76476195, 0.76723814, 0.76971433, 0.77219052, 0.77466671,\n",
       "        0.7771429 , 0.77961909, 0.78209528, 0.78457147, 0.78704766,\n",
       "        0.78952385, 0.79200004, 0.79447623, 0.79695242, 0.79942861,\n",
       "        0.8019048 , 0.80438099, 0.80685718, 0.80933337, 0.81180956,\n",
       "        0.81428575, 0.81676194, 0.81923813, 0.82171432, 0.82419051,\n",
       "        0.8266667 , 0.82914289, 0.83161908, 0.83409527, 0.83657146,\n",
       "        0.83904765, 0.84152384, 0.84400003, 0.84647622, 0.84895241,\n",
       "        0.8514286 , 0.85390479, 0.85638098, 0.85885717, 0.86133336,\n",
       "        0.86380955, 0.86628574, 0.86876193, 0.87123812, 0.87371431,\n",
       "        0.8761905 , 0.87866669, 0.88114288, 0.88361907, 0.88609526,\n",
       "        0.88857145, 0.89104764, 0.89352383, 0.89600002, 0.89847621,\n",
       "        0.9009524 , 0.90342859, 0.90590478, 0.90838097, 0.91085716,\n",
       "        0.91333335, 0.91580954, 0.91828573, 0.92076192, 0.92323811,\n",
       "        0.9257143 , 0.92819049, 0.93066668, 0.93314287, 0.93561906,\n",
       "        0.93809525, 0.94057144, 0.94304763, 0.94552382, 0.94800001,\n",
       "        0.9504762 , 0.95295239, 0.95542858, 0.95790477, 0.96038096,\n",
       "        0.96285715, 0.96533334, 0.96780953, 0.97028572, 0.97276191,\n",
       "        0.9752381 , 0.97771429, 0.98019048, 0.98266667, 0.98514286,\n",
       "        0.98761905, 0.99009524, 0.99257143, 0.99504762, 0.99752381,\n",
       "        1.        ]),\n",
       " <BarContainer object of 100 artists>)"
      ]
     },
     "execution_count": 374,
     "metadata": {},
     "output_type": "execute_result"
    },
    {
     "data": {
      "image/png": "[encoded data removed]",
      "text/plain": [
       "<Figure size 640x480 with 1 Axes>"
      ]
     },
     "metadata": {},
     "output_type": "display_data"
    }
   ],
   "source": [
    "print(len(prec))\n",
    "\n",
    "plt.hist(prec[:], bins=100,color = \"lightblue\", ec=\"red\")"
   ]
  }
 ],
 "metadata": {
  "kernelspec": {
   "display_name": "Python 3 (ipykernel)",
   "language": "python",
   "name": "python3"
  },
  "language_info": {
   "codemirror_mode": {
    "name": "ipython",
    "version": 3
   },
   "file_extension": ".py",
   "mimetype": "text/x-python",
   "name": "python",
   "nbconvert_exporter": "python",
   "pygments_lexer": "ipython3",
   "version": "3.9.13"
  }
 },
 "nbformat": 4,
 "nbformat_minor": 5
}
